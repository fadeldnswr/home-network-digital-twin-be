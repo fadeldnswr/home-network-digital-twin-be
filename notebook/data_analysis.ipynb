{
 "cells": [
  {
   "cell_type": "markdown",
   "id": "24393d70",
   "metadata": {},
   "source": [
    "## Real Data Analysis"
   ]
  },
  {
   "cell_type": "code",
   "execution_count": 6,
   "id": "ed646884",
   "metadata": {},
   "outputs": [],
   "source": [
    "# Import libraries\n",
    "import pandas as pd\n",
    "import matplotlib.pyplot as plt\n",
    "import numpy as np\n",
    "import sys\n",
    "import os"
   ]
  },
  {
   "cell_type": "code",
   "execution_count": 7,
   "id": "5b319187",
   "metadata": {},
   "outputs": [
    {
     "name": "stdout",
     "output_type": "stream",
     "text": [
      "2025-07-24 20:53:25,341 INFO sqlalchemy.engine.Engine select pg_catalog.version()\n",
      "2025-07-24 20:53:25,343 INFO sqlalchemy.engine.Engine [raw sql] {}\n",
      "2025-07-24 20:53:25,401 INFO sqlalchemy.engine.Engine select current_schema()\n",
      "2025-07-24 20:53:25,403 INFO sqlalchemy.engine.Engine [raw sql] {}\n",
      "2025-07-24 20:53:25,465 INFO sqlalchemy.engine.Engine show standard_conforming_strings\n",
      "2025-07-24 20:53:25,466 INFO sqlalchemy.engine.Engine [raw sql] {}\n",
      "2025-07-24 20:53:25,598 INFO sqlalchemy.engine.Engine BEGIN (implicit)\n",
      "2025-07-24 20:53:25,603 INFO sqlalchemy.engine.Engine SELECT network_data.id, network_data.time, network_data.latency_ms, network_data.jitter_ms, network_data.packet_loss, network_data.rssi_dbm, network_data.interface, network_data.download_mbps, network_data.upload_mbps, network_data.cpu_usage, network_data.ram_usage, network_data.device_count, network_data.temp \n",
      "FROM network_data\n",
      "2025-07-24 20:53:25,604 INFO sqlalchemy.engine.Engine [generated in 0.00115s] {}\n",
      "2025-07-24 20:53:26,108 INFO sqlalchemy.engine.Engine ROLLBACK\n"
     ]
    },
    {
     "data": {
      "text/html": [
       "<div>\n",
       "<style scoped>\n",
       "    .dataframe tbody tr th:only-of-type {\n",
       "        vertical-align: middle;\n",
       "    }\n",
       "\n",
       "    .dataframe tbody tr th {\n",
       "        vertical-align: top;\n",
       "    }\n",
       "\n",
       "    .dataframe thead th {\n",
       "        text-align: right;\n",
       "    }\n",
       "</style>\n",
       "<table border=\"1\" class=\"dataframe\">\n",
       "  <thead>\n",
       "    <tr style=\"text-align: right;\">\n",
       "      <th></th>\n",
       "      <th>jitter_ms</th>\n",
       "      <th>id</th>\n",
       "      <th>rssi_dbm</th>\n",
       "      <th>download_mbps</th>\n",
       "      <th>cpu_usage</th>\n",
       "      <th>device_count</th>\n",
       "      <th>packet_loss</th>\n",
       "      <th>time</th>\n",
       "      <th>latency_ms</th>\n",
       "      <th>interface</th>\n",
       "      <th>upload_mbps</th>\n",
       "      <th>ram_usage</th>\n",
       "      <th>temp</th>\n",
       "    </tr>\n",
       "  </thead>\n",
       "  <tbody>\n",
       "    <tr>\n",
       "      <th>0</th>\n",
       "      <td>0.768</td>\n",
       "      <td>996970c3-5cc2-4666-adb5-76b5ce1412d3</td>\n",
       "      <td>-19</td>\n",
       "      <td>100.63</td>\n",
       "      <td>5.0</td>\n",
       "      <td>6</td>\n",
       "      <td>0.0</td>\n",
       "      <td>2025-07-21 08:54:16.573397+00:00</td>\n",
       "      <td>17.173</td>\n",
       "      <td>nmap</td>\n",
       "      <td>38.39</td>\n",
       "      <td>78.3</td>\n",
       "      <td>47.2</td>\n",
       "    </tr>\n",
       "    <tr>\n",
       "      <th>1</th>\n",
       "      <td>0.717</td>\n",
       "      <td>4db743f2-4248-4a77-85e6-83da3f6883d7</td>\n",
       "      <td>-15</td>\n",
       "      <td>NaN</td>\n",
       "      <td>7.5</td>\n",
       "      <td>6</td>\n",
       "      <td>0.0</td>\n",
       "      <td>2025-07-21 12:44:09.485153+00:00</td>\n",
       "      <td>17.238</td>\n",
       "      <td>nmap</td>\n",
       "      <td>NaN</td>\n",
       "      <td>67.0</td>\n",
       "      <td>45.7</td>\n",
       "    </tr>\n",
       "    <tr>\n",
       "      <th>2</th>\n",
       "      <td>1.024</td>\n",
       "      <td>e1074c0f-d41a-450a-90b8-1971062e730d</td>\n",
       "      <td>-13</td>\n",
       "      <td>0.00</td>\n",
       "      <td>5.3</td>\n",
       "      <td>6</td>\n",
       "      <td>0.0</td>\n",
       "      <td>2025-07-21 12:51:04.539047+00:00</td>\n",
       "      <td>17.165</td>\n",
       "      <td>nmap</td>\n",
       "      <td>0.00</td>\n",
       "      <td>67.8</td>\n",
       "      <td>46.2</td>\n",
       "    </tr>\n",
       "    <tr>\n",
       "      <th>3</th>\n",
       "      <td>0.897</td>\n",
       "      <td>f26b6417-c473-4e4c-b755-97367c97622b</td>\n",
       "      <td>-16</td>\n",
       "      <td>0.00</td>\n",
       "      <td>7.1</td>\n",
       "      <td>5</td>\n",
       "      <td>0.0</td>\n",
       "      <td>2025-07-21 12:56:15.429612+00:00</td>\n",
       "      <td>17.177</td>\n",
       "      <td>nmap</td>\n",
       "      <td>0.00</td>\n",
       "      <td>65.6</td>\n",
       "      <td>45.2</td>\n",
       "    </tr>\n",
       "    <tr>\n",
       "      <th>4</th>\n",
       "      <td>0.973</td>\n",
       "      <td>10ba122a-beca-401e-aaf0-b69bc7a56c55</td>\n",
       "      <td>-22</td>\n",
       "      <td>0.00</td>\n",
       "      <td>30.0</td>\n",
       "      <td>4</td>\n",
       "      <td>0.0</td>\n",
       "      <td>2025-07-22 04:32:59.924587+00:00</td>\n",
       "      <td>17.423</td>\n",
       "      <td>nmap</td>\n",
       "      <td>0.00</td>\n",
       "      <td>15.4</td>\n",
       "      <td>39.4</td>\n",
       "    </tr>\n",
       "  </tbody>\n",
       "</table>\n",
       "</div>"
      ],
      "text/plain": [
       "   jitter_ms                                    id  rssi_dbm  download_mbps  \\\n",
       "0      0.768  996970c3-5cc2-4666-adb5-76b5ce1412d3       -19         100.63   \n",
       "1      0.717  4db743f2-4248-4a77-85e6-83da3f6883d7       -15            NaN   \n",
       "2      1.024  e1074c0f-d41a-450a-90b8-1971062e730d       -13           0.00   \n",
       "3      0.897  f26b6417-c473-4e4c-b755-97367c97622b       -16           0.00   \n",
       "4      0.973  10ba122a-beca-401e-aaf0-b69bc7a56c55       -22           0.00   \n",
       "\n",
       "   cpu_usage  device_count  packet_loss                             time  \\\n",
       "0        5.0             6          0.0 2025-07-21 08:54:16.573397+00:00   \n",
       "1        7.5             6          0.0 2025-07-21 12:44:09.485153+00:00   \n",
       "2        5.3             6          0.0 2025-07-21 12:51:04.539047+00:00   \n",
       "3        7.1             5          0.0 2025-07-21 12:56:15.429612+00:00   \n",
       "4       30.0             4          0.0 2025-07-22 04:32:59.924587+00:00   \n",
       "\n",
       "   latency_ms interface  upload_mbps  ram_usage  temp  \n",
       "0      17.173      nmap        38.39       78.3  47.2  \n",
       "1      17.238      nmap          NaN       67.0  45.7  \n",
       "2      17.165      nmap         0.00       67.8  46.2  \n",
       "3      17.177      nmap         0.00       65.6  45.2  \n",
       "4      17.423      nmap         0.00       15.4  39.4  "
      ]
     },
     "execution_count": 7,
     "metadata": {},
     "output_type": "execute_result"
    }
   ],
   "source": [
    "sys.path.append(os.path.abspath(os.path.join(os.getcwd(), \"..\"))) # Get the parent directory\n",
    "from src.pipeline.data_extraction import DataExtraction\n",
    "\n",
    "# Load the data\n",
    "data_extract = DataExtraction()\n",
    "data = data_extract.extract_data_from_supabase()\n",
    "\n",
    "# Print the first few rows of the data\n",
    "data.head()"
   ]
  },
  {
   "cell_type": "markdown",
   "id": "2ad8c596",
   "metadata": {},
   "source": [
    "### Data Preprocessing"
   ]
  },
  {
   "cell_type": "code",
   "execution_count": 8,
   "id": "0ffeff39",
   "metadata": {},
   "outputs": [
    {
     "name": "stdout",
     "output_type": "stream",
     "text": [
      "Data columns has been dropped successfully.\n",
      "Missing values in each columns : jitter_ms        0\n",
      "rssi_dbm         0\n",
      "download_mbps    1\n",
      "cpu_usage        0\n",
      "device_count     0\n",
      "packet_loss      0\n",
      "time             0\n",
      "latency_ms       0\n",
      "interface        0\n",
      "upload_mbps      1\n",
      "ram_usage        0\n",
      "temp             0\n",
      "dtype: int64\n"
     ]
    }
   ],
   "source": [
    "# Drop unnecessary columns\n",
    "data = data.drop(columns=[\"id\"], axis=1)\n",
    "print(\"Data columns has been dropped successfully.\")\n",
    "\n",
    "# Check for missing values\n",
    "missing_values = data.isnull().sum()\n",
    "print(f\"Missing values in each columns : {missing_values}\")"
   ]
  },
  {
   "cell_type": "code",
   "execution_count": 12,
   "id": "5bcdc3c5",
   "metadata": {},
   "outputs": [
    {
     "name": "stdout",
     "output_type": "stream",
     "text": [
      "Download Column Values\n",
      "download_mbps\n",
      "0.00      657\n",
      "100.63      1\n",
      "Name: count, dtype: int64\n",
      "\n",
      "\n",
      "Upload Column Values\n",
      "upload_mbps\n",
      "0.00     657\n",
      "38.39      1\n",
      "Name: count, dtype: int64\n"
     ]
    }
   ],
   "source": [
    "# Check the download and upload columns value\n",
    "print(\"Download Column Values\")\n",
    "print(data[\"download_mbps\"].value_counts())\n",
    "\n",
    "print(\"\\n\")\n",
    "\n",
    "print(\"Upload Column Values\")\n",
    "print(data[\"upload_mbps\"].value_counts())"
   ]
  },
  {
   "cell_type": "code",
   "execution_count": 13,
   "id": "6721c2a7",
   "metadata": {},
   "outputs": [
    {
     "name": "stdout",
     "output_type": "stream",
     "text": [
      "Columns with all missing values have been dropped successfully.\n",
      "Data Types of the Columns\n",
      "jitter_ms                   float64\n",
      "rssi_dbm                      int64\n",
      "cpu_usage                   float64\n",
      "device_count                  int64\n",
      "packet_loss                 float64\n",
      "time            datetime64[ns, UTC]\n",
      "latency_ms                  float64\n",
      "interface                    object\n",
      "ram_usage                   float64\n",
      "temp                        float64\n",
      "dtype: object\n"
     ]
    }
   ],
   "source": [
    "# Dropped the columns with all missing values\n",
    "data = data.drop(columns=[\"download_mbps\", \"upload_mbps\"], axis=1)\n",
    "print(\"Columns with all missing values have been dropped successfully.\")\n",
    "\n",
    "# Check the data types of the columns\n",
    "print(\"Data Types of the Columns\")\n",
    "print(data.dtypes)"
   ]
  }
 ],
 "metadata": {
  "kernelspec": {
   "display_name": "venv",
   "language": "python",
   "name": "python3"
  },
  "language_info": {
   "codemirror_mode": {
    "name": "ipython",
    "version": 3
   },
   "file_extension": ".py",
   "mimetype": "text/x-python",
   "name": "python",
   "nbconvert_exporter": "python",
   "pygments_lexer": "ipython3",
   "version": "3.10.5"
  }
 },
 "nbformat": 4,
 "nbformat_minor": 5
}
